{
 "cells": [
  {
   "cell_type": "code",
   "execution_count": 2,
   "id": "5c62c7cd-a165-4f79-9327-808c30434346",
   "metadata": {},
   "outputs": [
    {
     "name": "stdout",
     "output_type": "stream",
     "text": [
      "60\n"
     ]
    }
   ],
   "source": [
    "#find the maximum number in the list without sorting\n",
    "mylist=[10,30,50,20,60]\n",
    "max_value=0\n",
    "for i in range(0,len(mylist)):\n",
    "    if(max_value<mylist[i]):\n",
    "        max_value=mylist[i]\n",
    "print(max_value)\n",
    "        \n",
    "        "
   ]
  },
  {
   "cell_type": "code",
   "execution_count": 3,
   "id": "dc07eee3-4058-43ac-a5f4-1e800b029b5e",
   "metadata": {},
   "outputs": [
    {
     "name": "stdout",
     "output_type": "stream",
     "text": [
      "100\n"
     ]
    }
   ],
   "source": [
    "#sum all the elements of a list \n",
    "mylist=[10,20,30,40]\n",
    "sum=0\n",
    "for i in range(0,len(mylist)):\n",
    "    sum=sum+mylist[i]\n",
    "print(sum)"
   ]
  },
  {
   "cell_type": "code",
   "execution_count": 5,
   "id": "41ff208a-40c3-46a9-8204-35014586a586",
   "metadata": {},
   "outputs": [
    {
     "name": "stdout",
     "output_type": "stream",
     "text": [
      "[40, 30, 20, 10]\n"
     ]
    }
   ],
   "source": [
    "#reverse a list without slicing and reverse function\n",
    "mylist=[10,20,30,40]\n",
    "reversed_list=[]\n",
    "for i in range(len(mylist)-1,-1,-1):\n",
    "    reversed_list.append(mylist[i])\n",
    "print(reversed_list)\n",
    "    \n",
    "    \n",
    "    "
   ]
  },
  {
   "cell_type": "code",
   "execution_count": 7,
   "id": "61e4b3fa-d1c4-407b-8200-e20edb752db6",
   "metadata": {},
   "outputs": [
    {
     "name": "stdout",
     "output_type": "stream",
     "text": [
      "[4, 7, 20, 30, 40]\n"
     ]
    }
   ],
   "source": [
    "#sort list in ascending order without sort function\n",
    "mylist=[20,30,4,7,40]\n",
    "for i in range(0,len(mylist)-1):\n",
    "    for j in range(i,len(mylist)-1):\n",
    "        if(mylist[i]>mylist[j]):\n",
    "         temp=mylist[j]\n",
    "         mylist[j]=mylist[i]\n",
    "         mylist[i]=temp\n",
    "print(mylist)"
   ]
  },
  {
   "cell_type": "code",
   "execution_count": 39,
   "id": "778a7d6b-caa7-4800-a1f3-60a0d31e8e67",
   "metadata": {},
   "outputs": [
    {
     "name": "stdout",
     "output_type": "stream",
     "text": [
      "[10, 20, 50]\n"
     ]
    }
   ],
   "source": [
    "#remove dupliactes from a list while maintaing the order of element\n",
    "mylist=[10,20,20,50,20,10]\n",
    "new_list=[]\n",
    "\n",
    "for i in range(0,len(mylist)):\n",
    "    for j in range(i,len(mylist)):\n",
    "      if(mylist[i] )== (mylist[j]):\n",
    "          break\n",
    "    else:\n",
    "        new_list.append(mylist[i])\n",
    "        # mylist[i].pop()            # list se remove kaise kru......\n",
    "        \n",
    "print(new_list)\n",
    "                        \n",
    "        \n",
    "    \n",
    "    "
   ]
  },
  {
   "cell_type": "code",
   "execution_count": 25,
   "id": "340d919a-a4fc-40c3-8b76-613204a2058d",
   "metadata": {},
   "outputs": [
    {
     "name": "stdout",
     "output_type": "stream",
     "text": [
      "[50, 20, 10]\n"
     ]
    }
   ],
   "source": [
    "# Remove duplicates from a list while maintaining the order of elements using only for loops\n",
    "mylist = [10, 20, 20, 50, 20, 10]\n",
    "new_list = []\n",
    "\n",
    "for i in mylist:\n",
    "    for j in range(i):\n",
    "        if mylist[i] == mylist[j]:\n",
    "            break\n",
    "    else:\n",
    "        new_list.append(mylist[i])\n",
    "        \n",
    "print(new_list)"
   ]
  },
  {
   "cell_type": "code",
   "execution_count": 72,
   "id": "17f08140-4966-41b3-a059-6288840efcf3",
   "metadata": {},
   "outputs": [
    {
     "name": "stdin",
     "output_type": "stream",
     "text": [
      "enter a number 31\n"
     ]
    },
    {
     "name": "stdout",
     "output_type": "stream",
     "text": [
      "20 11\n"
     ]
    }
   ],
   "source": [
    "#find all the pairing numbers in a list that  add up to specific target sum\n",
    "mylist=[10,20,40,8,11]\n",
    "new_list=[]\n",
    "target=int(input(\"enter a number\"))\n",
    "for i in range(0,len(mylist)):\n",
    "    for j in range(i+1,len(mylist)):\n",
    "     if (mylist[i]+mylist[j]==target):\n",
    "        \n",
    "      print(mylist[i],mylist[j])   "
   ]
  },
  {
   "cell_type": "code",
   "execution_count": 59,
   "id": "7cd3dc94-0110-4242-a750-e3000dd10f6f",
   "metadata": {},
   "outputs": [
    {
     "ename": "_IncompleteInputError",
     "evalue": "incomplete input (2801205264.py, line 5)",
     "output_type": "error",
     "traceback": [
      "  \u001b[36mCell\u001b[39m\u001b[36m \u001b[39m\u001b[32mIn[59]\u001b[39m\u001b[32m, line 5\u001b[39m\n\u001b[31m    \u001b[39m\n    ^\n\u001b[31m_IncompleteInputError\u001b[39m\u001b[31m:\u001b[39m incomplete input\n"
     ]
    }
   ],
   "source": [
    "#write a python program to flatten a nested list (list within lists) into a single list\n",
    "mylist=[10,20,[40,[50]],50,20]\n",
    "new_list=[]\n",
    "for i in range(len(mylist)):\n",
    "    "
   ]
  },
  {
   "cell_type": "code",
   "execution_count": 100,
   "id": "b123a614-bdd0-4cfe-bb70-cad882d9b9a7",
   "metadata": {},
   "outputs": [
    {
     "name": "stdout",
     "output_type": "stream",
     "text": [
      "minimum value in list 5\n",
      "maximum value in list 70\n",
      "sum of list excluding minimum and maximum value 130\n"
     ]
    }
   ],
   "source": [
    "#write a python program to find the sum of the elements in list ,excluding the largest and smallest element.dont use max and min function\n",
    "\n",
    "mylist=[10,20,40,60,70,5]\n",
    "sum=0\n",
    "min_value=mylist[0]\n",
    "for i in range(1,len(mylist)):\n",
    "    if (min_value>mylist[i]):\n",
    "        min_value=mylist[i]\n",
    "print(\"minimum value in list\",min_value)\n",
    "max_value=mylist[0]\n",
    "for i in range(1,len(mylist)):\n",
    "    if (max_value<mylist[i]):\n",
    "        max_value=mylist[i]\n",
    "print(\"maximum value in list\",max_value)\n",
    "for i in range(len(mylist)):\n",
    "   if (mylist[i]!=min_value and mylist[i]!=max_value):\n",
    "     sum=sum+mylist[i]\n",
    "print(\"sum of list excluding minimum and maximum value\",sum)\n",
    "   \n",
    "\n"
   ]
  },
  {
   "cell_type": "code",
   "execution_count": 2,
   "id": "dd8224d7-b04b-40d1-bb2c-379168a348b2",
   "metadata": {},
   "outputs": [
    {
     "name": "stdout",
     "output_type": "stream",
     "text": [
      "The list is not a palindrome\n"
     ]
    }
   ],
   "source": [
    "\n",
    "#write a python program to check list is palindrom or not\n",
    "mylist = [10, 20, 30, 20, 10]\n",
    "\n",
    "for i in range(len(mylist) // 2):\n",
    "    if mylist[i] != mylist[-(i + 1)]:\n",
    "        print(\"The list is not a palindrome\")\n",
    "        break\n",
    "else:\n",
    "    print(\"The list is a palindrome\")\n",
    "    \n"
   ]
  },
  {
   "cell_type": "code",
   "execution_count": 67,
   "id": "d115b7c8-e75e-4fe7-85f7-9d7d0a5b6d1f",
   "metadata": {},
   "outputs": [
    {
     "name": "stdout",
     "output_type": "stream",
     "text": [
      "duplicate value extracted from mylist:=>  [50, 70]\n",
      "mylist after removing duplicate values:=> [10, 50, 50, 70, 30, 70, 20, 70]\n"
     ]
    }
   ],
   "source": [
    "#write a program to remove duplicate from the list\n",
    "\n",
    "mylist=[10,50,50,70,30,70,20,70]\n",
    "new_list=[]\n",
    "for i in range(0,len(mylist)-1):\n",
    "    for j in  range(i+1,len(mylist)-1):\n",
    "      if (mylist[i]==mylist[j]):\n",
    "        new_list.append(mylist[i])\n",
    "       \n",
    "      \n",
    "       # mylist.pop(i)        # why duplicate value is not removing\n",
    "      \n",
    "      \n",
    "          \n",
    "print(\"duplicate value extracted from mylist:=> \",new_list)\n",
    "print(\"mylist after removing duplicate values:=>\", mylist)\n",
    "        \n",
    "    "
   ]
  },
  {
   "cell_type": "code",
   "execution_count": 91,
   "id": "22d3d28a-b197-4c91-bc06-f706b28bee8e",
   "metadata": {},
   "outputs": [
    {
     "name": "stdout",
     "output_type": "stream",
     "text": [
      "[1, 2, 5, 6, 8, 3]\n"
     ]
    }
   ],
   "source": [
    "#write a program to remove duplicate from the list\n",
    "mylist=[1,2,5,6,5,8,2,3]\n",
    "new_list=[]\n",
    "for i in mylist:\n",
    "    if i not in new_list:\n",
    "        new_list.append(i)\n",
    "print(new_list)"
   ]
  },
  {
   "cell_type": "code",
   "execution_count": 90,
   "id": "cb26d7f4-8aaa-4329-861a-73ddefb03ad3",
   "metadata": {},
   "outputs": [
    {
     "name": "stdout",
     "output_type": "stream",
     "text": [
      "1 3 4 5 6 7 "
     ]
    }
   ],
   "source": [
    "#find common element in both list\n",
    "first=[1,2,3,4,5,6,7]\n",
    "second=[3,4,5,6,1,7]\n",
    "for i in range(len(first)):\n",
    " for j in range(len(second)):\n",
    "    if first[i]==second[j]:\n",
    "        print(first[i] ,end=\" \")"
   ]
  },
  {
   "cell_type": "code",
   "execution_count": 99,
   "id": "4787d284-1b1a-46a5-9d7f-cd7d0237cc72",
   "metadata": {},
   "outputs": [
    {
     "name": "stdout",
     "output_type": "stream",
     "text": [
      "strawberry\n"
     ]
    }
   ],
   "source": [
    "#12. Find the Longest Word in a List\n",
    "#a. words = [\"apple\", \"banana\", \"strawberry\", \"kiwi\"]\n",
    "#b. Strawberry\n",
    "words = [\"apple\", \"banana\", \"strawberry\", \"kiwi\"]\n",
    "longest_word=''\n",
    "for i in words:\n",
    "    if len(i)>len(longest_word):\n",
    "     longest_word=i\n",
    "print(longest_word)\n",
    "    \n",
    "    \n",
    "    "
   ]
  },
  {
   "cell_type": "code",
   "execution_count": null,
   "id": "d1e12486-d6d9-430a-8e31-1a716e46d6d8",
   "metadata": {},
   "outputs": [],
   "source": []
  }
 ],
 "metadata": {
  "kernelspec": {
   "display_name": "Python 3 (ipykernel)",
   "language": "python",
   "name": "python3"
  },
  "language_info": {
   "codemirror_mode": {
    "name": "ipython",
    "version": 3
   },
   "file_extension": ".py",
   "mimetype": "text/x-python",
   "name": "python",
   "nbconvert_exporter": "python",
   "pygments_lexer": "ipython3",
   "version": "3.13.2"
  }
 },
 "nbformat": 4,
 "nbformat_minor": 5
}
